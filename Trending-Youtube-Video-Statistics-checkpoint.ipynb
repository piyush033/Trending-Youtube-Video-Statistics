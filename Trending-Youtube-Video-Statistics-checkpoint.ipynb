{
 "cells": [
  {
   "cell_type": "code",
   "execution_count": 1,
   "metadata": {
    "_cell_guid": "b1076dfc-b9ad-4769-8c92-a6c4dae69d19",
    "_uuid": "8f2839f25d086af736a60e9eeb907d3b93b6e0e5",
    "execution": {
     "iopub.execute_input": "2022-07-23T06:15:13.950684Z",
     "iopub.status.busy": "2022-07-23T06:15:13.949932Z",
     "iopub.status.idle": "2022-07-23T06:15:13.995720Z",
     "shell.execute_reply": "2022-07-23T06:15:13.994813Z",
     "shell.execute_reply.started": "2022-07-23T06:15:13.950584Z"
    }
   },
   "outputs": [],
   "source": [
    "# This Python 3 environment comes with many helpful analytics libraries installed\n",
    "# It is defined by the kaggle/python Docker image: https://github.com/kaggle/docker-python\n",
    "# For example, here's several helpful packages to load\n",
    "\n",
    "import numpy as np # linear algebra\n",
    "import pandas as pd # data processing, CSV file I/O (e.g. pd.read_csv)\n",
    "\n",
    "# Input data files are available in the read-only \"../input/\" directory\n",
    "# For example, running this (by clicking run or pressing Shift+Enter) will list all files under the input directory\n",
    "\n",
    "import os\n",
    "for dirname, _, filenames in os.walk('/kaggle/input'):\n",
    "    for filename in filenames:\n",
    "        print(os.path.join(dirname, filename))\n",
    "\n",
    "# You can write up to 20GB to the current directory (/kaggle/working/) that gets preserved as output when you create a version using \"Save & Run All\" \n",
    "# You can also write temporary files to /kaggle/temp/, but they won't be saved outside of the current session"
   ]
  },
  {
   "cell_type": "code",
   "execution_count": 2,
   "metadata": {
    "execution": {
     "iopub.execute_input": "2022-07-23T06:15:20.861692Z",
     "iopub.status.busy": "2022-07-23T06:15:20.861302Z",
     "iopub.status.idle": "2022-07-23T06:15:20.867981Z",
     "shell.execute_reply": "2022-07-23T06:15:20.867018Z",
     "shell.execute_reply.started": "2022-07-23T06:15:20.861661Z"
    }
   },
   "outputs": [],
   "source": [
    "pd.set_option('display.max_columns', None)\n",
    "pd.set_option('display.max_rows', None)\n",
    "pd.set_option('display.expand_frame_repr', False)\n",
    "pd.set_option('display.float_format', lambda x: '%.5f' % x)"
   ]
  },
  {
   "cell_type": "code",
   "execution_count": 3,
   "metadata": {
    "execution": {
     "iopub.execute_input": "2022-07-23T06:15:50.862709Z",
     "iopub.status.busy": "2022-07-23T06:15:50.862198Z",
     "iopub.status.idle": "2022-07-23T06:15:52.496119Z",
     "shell.execute_reply": "2022-07-23T06:15:52.494986Z",
     "shell.execute_reply.started": "2022-07-23T06:15:50.862676Z"
    }
   },
   "outputs": [],
   "source": [
    "df = pd.read_csv(\"/kaggle/input/youtube-new/USvideos.csv\")\n",
    "df.head()"
   ]
  },
  {
   "cell_type": "code",
   "execution_count": 4,
   "metadata": {
    "execution": {
     "iopub.execute_input": "2022-07-23T06:16:55.375184Z",
     "iopub.status.busy": "2022-07-23T06:16:55.374755Z",
     "iopub.status.idle": "2022-07-23T06:16:55.407609Z",
     "shell.execute_reply": "2022-07-23T06:16:55.406488Z",
     "shell.execute_reply.started": "2022-07-23T06:16:55.375148Z"
    }
   },
   "outputs": [],
   "source": [
    "#Processing the data\n",
    "df['trending_date'] = pd.to_datetime(df['trending_date'], format='%y.%d.%m')\n",
    "df['trending_date'].head()"
   ]
  },
  {
   "cell_type": "code",
   "execution_count": 5,
   "metadata": {
    "execution": {
     "iopub.execute_input": "2022-07-23T06:17:30.851086Z",
     "iopub.status.busy": "2022-07-23T06:17:30.850719Z",
     "iopub.status.idle": "2022-07-23T06:17:30.916600Z",
     "shell.execute_reply": "2022-07-23T06:17:30.915506Z",
     "shell.execute_reply.started": "2022-07-23T06:17:30.851057Z"
    }
   },
   "outputs": [],
   "source": [
    "df['publish_time'] = pd.to_datetime(df['publish_time'], format='%Y-%m-%dT%H:%M:%S.%fZ')\n",
    "df['publish_time'].head()"
   ]
  },
  {
   "cell_type": "code",
   "execution_count": 6,
   "metadata": {
    "execution": {
     "iopub.execute_input": "2022-07-23T06:17:45.363469Z",
     "iopub.status.busy": "2022-07-23T06:17:45.363137Z",
     "iopub.status.idle": "2022-07-23T06:17:45.409949Z",
     "shell.execute_reply": "2022-07-23T06:17:45.408902Z",
     "shell.execute_reply.started": "2022-07-23T06:17:45.363440Z"
    }
   },
   "outputs": [],
   "source": [
    "df.info()"
   ]
  },
  {
   "cell_type": "code",
   "execution_count": 7,
   "metadata": {
    "execution": {
     "iopub.execute_input": "2022-07-23T06:18:38.753443Z",
     "iopub.status.busy": "2022-07-23T06:18:38.753060Z",
     "iopub.status.idle": "2022-07-23T06:18:38.813474Z",
     "shell.execute_reply": "2022-07-23T06:18:38.812511Z",
     "shell.execute_reply.started": "2022-07-23T06:18:38.753413Z"
    }
   },
   "outputs": [],
   "source": [
    "df.insert(4, 'publish_date', df['publish_time'].dt.date)\n",
    "df['publish_time'] = df['publish_time'].dt.time"
   ]
  },
  {
   "cell_type": "code",
   "execution_count": 8,
   "metadata": {
    "execution": {
     "iopub.execute_input": "2022-07-23T06:18:47.837958Z",
     "iopub.status.busy": "2022-07-23T06:18:47.837592Z",
     "iopub.status.idle": "2022-07-23T06:18:47.859799Z",
     "shell.execute_reply": "2022-07-23T06:18:47.858745Z",
     "shell.execute_reply.started": "2022-07-23T06:18:47.837930Z"
    }
   },
   "outputs": [],
   "source": [
    "df[['publish_date', 'publish_time']].head()"
   ]
  },
  {
   "cell_type": "code",
   "execution_count": 9,
   "metadata": {
    "execution": {
     "iopub.execute_input": "2022-07-23T06:19:11.479708Z",
     "iopub.status.busy": "2022-07-23T06:19:11.479338Z",
     "iopub.status.idle": "2022-07-23T06:19:11.486566Z",
     "shell.execute_reply": "2022-07-23T06:19:11.485818Z",
     "shell.execute_reply.started": "2022-07-23T06:19:11.479681Z"
    }
   },
   "outputs": [],
   "source": [
    "# Processing data types\n",
    "type_int_list = ['views', 'likes', 'dislikes', 'comment_count']\n",
    "for column in type_int_list:\n",
    "    df[column] = df[column].astype(int)"
   ]
  },
  {
   "cell_type": "code",
   "execution_count": 10,
   "metadata": {
    "execution": {
     "iopub.execute_input": "2022-07-23T06:19:23.269216Z",
     "iopub.status.busy": "2022-07-23T06:19:23.268738Z",
     "iopub.status.idle": "2022-07-23T06:19:23.318589Z",
     "shell.execute_reply": "2022-07-23T06:19:23.317476Z",
     "shell.execute_reply.started": "2022-07-23T06:19:23.269176Z"
    }
   },
   "outputs": [],
   "source": [
    "type_str_list = ['category_id']\n",
    "for column in type_str_list:\n",
    "    df[column] = df[column].astype(str)"
   ]
  },
  {
   "cell_type": "code",
   "execution_count": 11,
   "metadata": {
    "execution": {
     "iopub.execute_input": "2022-07-23T06:19:31.323691Z",
     "iopub.status.busy": "2022-07-23T06:19:31.323264Z",
     "iopub.status.idle": "2022-07-23T06:19:31.378272Z",
     "shell.execute_reply": "2022-07-23T06:19:31.377037Z",
     "shell.execute_reply.started": "2022-07-23T06:19:31.323660Z"
    }
   },
   "outputs": [],
   "source": [
    "df.info()"
   ]
  },
  {
   "cell_type": "code",
   "execution_count": 12,
   "metadata": {
    "execution": {
     "iopub.execute_input": "2022-07-23T06:20:46.609819Z",
     "iopub.status.busy": "2022-07-23T06:20:46.609405Z",
     "iopub.status.idle": "2022-07-23T06:20:46.627900Z",
     "shell.execute_reply": "2022-07-23T06:20:46.626637Z",
     "shell.execute_reply.started": "2022-07-23T06:20:46.609786Z"
    }
   },
   "outputs": [],
   "source": [
    "#Importing json file and adding category column\n",
    "import json\n",
    "# creates a dictionary that maps `category_id` to `category`\n",
    "id_to_category = {}\n",
    "\n",
    "with open('../input/youtube-new/US_category_id.json', 'r') as f:\n",
    "    data = json.load(f)\n",
    "    for category in data['items']:\n",
    "        id_to_category[category['id']] = category['snippet']['title']\n",
    "id_to_category"
   ]
  },
  {
   "cell_type": "code",
   "execution_count": 13,
   "metadata": {
    "execution": {
     "iopub.execute_input": "2022-07-23T06:20:58.780781Z",
     "iopub.status.busy": "2022-07-23T06:20:58.780420Z",
     "iopub.status.idle": "2022-07-23T06:20:58.814992Z",
     "shell.execute_reply": "2022-07-23T06:20:58.813660Z",
     "shell.execute_reply.started": "2022-07-23T06:20:58.780754Z"
    }
   },
   "outputs": [],
   "source": [
    "df.insert(4, 'category', df['category_id'].map(id_to_category))\n",
    "df[['category_id', 'category']].head()"
   ]
  },
  {
   "cell_type": "code",
   "execution_count": 14,
   "metadata": {
    "execution": {
     "iopub.execute_input": "2022-07-23T06:21:11.146726Z",
     "iopub.status.busy": "2022-07-23T06:21:11.146002Z",
     "iopub.status.idle": "2022-07-23T06:21:11.168192Z",
     "shell.execute_reply": "2022-07-23T06:21:11.167093Z",
     "shell.execute_reply.started": "2022-07-23T06:21:11.146684Z"
    }
   },
   "outputs": [],
   "source": [
    "df.head()"
   ]
  },
  {
   "cell_type": "code",
   "execution_count": 15,
   "metadata": {
    "execution": {
     "iopub.execute_input": "2022-07-23T06:22:31.603326Z",
     "iopub.status.busy": "2022-07-23T06:22:31.602533Z",
     "iopub.status.idle": "2022-07-23T06:22:31.623245Z",
     "shell.execute_reply": "2022-07-23T06:22:31.622422Z",
     "shell.execute_reply.started": "2022-07-23T06:22:31.603286Z"
    }
   },
   "outputs": [],
   "source": [
    "#Correlation analysis between variables\n",
    "special_columns = ['views', 'likes', 'dislikes', 'comment_count'] \n",
    "corr_matrix = df[special_columns].corr()\n",
    "corr_matrix"
   ]
  },
  {
   "cell_type": "code",
   "execution_count": 16,
   "metadata": {
    "execution": {
     "iopub.execute_input": "2022-07-23T06:23:04.764548Z",
     "iopub.status.busy": "2022-07-23T06:23:04.764114Z",
     "iopub.status.idle": "2022-07-23T06:23:04.975068Z",
     "shell.execute_reply": "2022-07-23T06:23:04.974014Z",
     "shell.execute_reply.started": "2022-07-23T06:23:04.764515Z"
    }
   },
   "outputs": [],
   "source": [
    "import matplotlib\n",
    "import matplotlib.pyplot as plt\n",
    "from matplotlib import cm\n",
    "\n",
    "fig, ax = plt.subplots()\n",
    "heatmap = ax.imshow(corr_matrix, interpolation='nearest', cmap=cm.coolwarm)\n",
    "\n",
    "# making the colorbar on the side\n",
    "cbar_min = corr_matrix.min().min()\n",
    "cbar_max = corr_matrix.max().max()\n",
    "cbar = fig.colorbar(heatmap, ticks=[cbar_min, cbar_max])\n",
    "# making the labels\n",
    "labels = ['']\n",
    "for column in special_columns:\n",
    "    labels.append(column)\n",
    "    labels.append('')\n",
    "ax.set_yticklabels(labels, minor=False)\n",
    "ax.set_xticklabels(labels, minor=False)\n",
    "\n",
    "plt.show()"
   ]
  },
  {
   "cell_type": "code",
   "execution_count": 17,
   "metadata": {
    "execution": {
     "iopub.execute_input": "2022-07-23T06:24:48.222575Z",
     "iopub.status.busy": "2022-07-23T06:24:48.221329Z",
     "iopub.status.idle": "2022-07-23T06:24:48.230773Z",
     "shell.execute_reply": "2022-07-23T06:24:48.229619Z",
     "shell.execute_reply.started": "2022-07-23T06:24:48.222512Z"
    }
   },
   "outputs": [],
   "source": [
    "# Sorting and Measurements of Video Title and Category\n",
    "#Create new dataset\n",
    "df_new = df[[\"video_id\",\"title\",\"category\",\"views\",\"likes\",\"dislikes\",\"comment_count\"]]"
   ]
  },
  {
   "cell_type": "code",
   "execution_count": 19,
   "metadata": {
    "execution": {
     "iopub.execute_input": "2022-07-23T06:25:07.387219Z",
     "iopub.status.busy": "2022-07-23T06:25:07.386806Z",
     "iopub.status.idle": "2022-07-23T06:25:07.402450Z",
     "shell.execute_reply": "2022-07-23T06:25:07.401494Z",
     "shell.execute_reply.started": "2022-07-23T06:25:07.387179Z"
    }
   },
   "outputs": [],
   "source": [
    "df_new.head()"
   ]
  },
  {
   "cell_type": "code",
   "execution_count": 20,
   "metadata": {
    "execution": {
     "iopub.execute_input": "2022-07-23T06:25:26.960028Z",
     "iopub.status.busy": "2022-07-23T06:25:26.959664Z",
     "iopub.status.idle": "2022-07-23T06:25:26.992903Z",
     "shell.execute_reply": "2022-07-23T06:25:26.992181Z",
     "shell.execute_reply.started": "2022-07-23T06:25:26.959999Z"
    }
   },
   "outputs": [],
   "source": [
    "df_new.describe().T"
   ]
  },
  {
   "cell_type": "code",
   "execution_count": 21,
   "metadata": {
    "execution": {
     "iopub.execute_input": "2022-07-23T06:25:36.350355Z",
     "iopub.status.busy": "2022-07-23T06:25:36.349985Z",
     "iopub.status.idle": "2022-07-23T06:25:36.383796Z",
     "shell.execute_reply": "2022-07-23T06:25:36.382785Z",
     "shell.execute_reply.started": "2022-07-23T06:25:36.350325Z"
    }
   },
   "outputs": [],
   "source": [
    "df_new.describe(percentiles=[.05,.25,.5,.75,.95]).round(1)"
   ]
  },
  {
   "cell_type": "code",
   "execution_count": 22,
   "metadata": {
    "execution": {
     "iopub.execute_input": "2022-07-23T06:26:09.465788Z",
     "iopub.status.busy": "2022-07-23T06:26:09.465421Z",
     "iopub.status.idle": "2022-07-23T06:26:09.491247Z",
     "shell.execute_reply": "2022-07-23T06:26:09.490364Z",
     "shell.execute_reply.started": "2022-07-23T06:26:09.465757Z"
    }
   },
   "outputs": [],
   "source": [
    "# Sorting by views\n",
    "df_new.sort_values(\"views\",ascending=False).head(20)"
   ]
  },
  {
   "cell_type": "code",
   "execution_count": 23,
   "metadata": {
    "execution": {
     "iopub.execute_input": "2022-07-23T06:26:26.317467Z",
     "iopub.status.busy": "2022-07-23T06:26:26.316311Z",
     "iopub.status.idle": "2022-07-23T06:26:26.336472Z",
     "shell.execute_reply": "2022-07-23T06:26:26.335365Z",
     "shell.execute_reply.started": "2022-07-23T06:26:26.317420Z"
    }
   },
   "outputs": [],
   "source": [
    "df_new[\"title\"].value_counts().head(10)"
   ]
  },
  {
   "cell_type": "code",
   "execution_count": 24,
   "metadata": {
    "execution": {
     "iopub.execute_input": "2022-07-23T06:27:03.265193Z",
     "iopub.status.busy": "2022-07-23T06:27:03.264763Z",
     "iopub.status.idle": "2022-07-23T06:27:03.305539Z",
     "shell.execute_reply": "2022-07-23T06:27:03.304706Z",
     "shell.execute_reply.started": "2022-07-23T06:27:03.265149Z"
    }
   },
   "outputs": [],
   "source": [
    "# Create New dataset by grouping\n",
    "df_un_title_max = df_new.groupby(\"title\").agg({\"views\":\"max\",\"likes\":\"max\",\"dislikes\":\"max\",\"comment_count\":\"max\"})\n",
    "df_un_title_max.sort_values(\"views\",ascending=False).head(25)"
   ]
  },
  {
   "cell_type": "code",
   "execution_count": 29,
   "metadata": {
    "execution": {
     "iopub.execute_input": "2022-07-23T06:31:07.636655Z",
     "iopub.status.busy": "2022-07-23T06:31:07.636260Z",
     "iopub.status.idle": "2022-07-23T06:31:08.054405Z",
     "shell.execute_reply": "2022-07-23T06:31:08.053268Z",
     "shell.execute_reply.started": "2022-07-23T06:31:07.636622Z"
    }
   },
   "outputs": [],
   "source": [
    "#Scale Variables and Standardization\n",
    "from sklearn.preprocessing import MinMaxScaler\n",
    "df_un_title_max[\"views_scaled\"] = MinMaxScaler(feature_range=(0, 1)).fit(df_un_title_max[[\"views\"]]).transform(df_un_title_max[[\"views\"]])\n",
    "df_un_title_max[\"likes_scaled\"] = MinMaxScaler(feature_range=(0, 1)).fit(df_un_title_max[[\"likes\"]]).transform(df_un_title_max[[\"likes\"]])\n",
    "df_un_title_max[\"dislikes_scaled\"] = MinMaxScaler(feature_range=(0, 1)).fit(df_un_title_max[[\"dislikes\"]]).transform(df_un_title_max[[\"dislikes\"]])\n",
    "df_un_title_max[\"comment_count_scaled\"] = MinMaxScaler(feature_range=(0, 1)).fit(df_un_title_max[[\"comment_count\"]]).transform(df_un_title_max[[\"comment_count\"]])"
   ]
  },
  {
   "cell_type": "code",
   "execution_count": 30,
   "metadata": {
    "execution": {
     "iopub.execute_input": "2022-07-23T06:31:13.560994Z",
     "iopub.status.busy": "2022-07-23T06:31:13.560607Z",
     "iopub.status.idle": "2022-07-23T06:31:13.566724Z",
     "shell.execute_reply": "2022-07-23T06:31:13.565869Z",
     "shell.execute_reply.started": "2022-07-23T06:31:13.560965Z"
    }
   },
   "outputs": [],
   "source": [
    "# Function of Weighted Sorting Score\n",
    "# c : comment_count\n",
    "# v : views\n",
    "# l : likes\n",
    "# dl : dislikes\n",
    "\n",
    "# Formula : v * c * (l / (l + dl)\n",
    "\n",
    "def weighted_sorting(dataframe,c,v,l,dl):\n",
    "    return (dataframe[v]* dataframe[c]* ((dataframe[l]/ (dataframe[l]+dataframe[dl]))))"
   ]
  },
  {
   "cell_type": "code",
   "execution_count": 31,
   "metadata": {
    "execution": {
     "iopub.execute_input": "2022-07-23T06:31:17.896427Z",
     "iopub.status.busy": "2022-07-23T06:31:17.895835Z",
     "iopub.status.idle": "2022-07-23T06:31:17.903368Z",
     "shell.execute_reply": "2022-07-23T06:31:17.902524Z",
     "shell.execute_reply.started": "2022-07-23T06:31:17.896387Z"
    }
   },
   "outputs": [],
   "source": [
    "df_un_title_max[\"weighted_sorting_score\"] = weighted_sorting(df_un_title_max,'comment_count_scaled','views_scaled','likes_scaled','dislikes_scaled')"
   ]
  },
  {
   "cell_type": "code",
   "execution_count": 32,
   "metadata": {
    "execution": {
     "iopub.execute_input": "2022-07-23T06:31:27.276175Z",
     "iopub.status.busy": "2022-07-23T06:31:27.275199Z",
     "iopub.status.idle": "2022-07-23T06:31:27.296845Z",
     "shell.execute_reply": "2022-07-23T06:31:27.296080Z",
     "shell.execute_reply.started": "2022-07-23T06:31:27.276114Z"
    }
   },
   "outputs": [],
   "source": [
    "df_un_title_max.sort_values(\"weighted_sorting_score\",ascending=False).head(25)"
   ]
  },
  {
   "cell_type": "code",
   "execution_count": 33,
   "metadata": {
    "execution": {
     "iopub.execute_input": "2022-07-23T06:32:04.256164Z",
     "iopub.status.busy": "2022-07-23T06:32:04.255762Z",
     "iopub.status.idle": "2022-07-23T06:32:04.274970Z",
     "shell.execute_reply": "2022-07-23T06:32:04.274183Z",
     "shell.execute_reply.started": "2022-07-23T06:32:04.256111Z"
    }
   },
   "outputs": [],
   "source": [
    "df_un_title_max.sort_values(\"weighted_sorting_score\",ascending=False).head(25)"
   ]
  },
  {
   "cell_type": "code",
   "execution_count": 34,
   "metadata": {
    "execution": {
     "iopub.execute_input": "2022-07-23T06:32:19.762515Z",
     "iopub.status.busy": "2022-07-23T06:32:19.762172Z",
     "iopub.status.idle": "2022-07-23T06:32:19.769415Z",
     "shell.execute_reply": "2022-07-23T06:32:19.768213Z",
     "shell.execute_reply.started": "2022-07-23T06:32:19.762486Z"
    }
   },
   "outputs": [],
   "source": [
    "df_un_title_max = df_un_title_max.drop([\"views\",\"likes\",\"dislikes\",\"comment_count\"],axis=1)"
   ]
  },
  {
   "cell_type": "code",
   "execution_count": 35,
   "metadata": {
    "execution": {
     "iopub.execute_input": "2022-07-23T06:32:27.809631Z",
     "iopub.status.busy": "2022-07-23T06:32:27.809276Z",
     "iopub.status.idle": "2022-07-23T06:32:27.826509Z",
     "shell.execute_reply": "2022-07-23T06:32:27.825584Z",
     "shell.execute_reply.started": "2022-07-23T06:32:27.809604Z"
    }
   },
   "outputs": [],
   "source": [
    "df_un_title_max.sort_values(\"weighted_sorting_score\",ascending=False).head(20)"
   ]
  },
  {
   "cell_type": "code",
   "execution_count": 36,
   "metadata": {
    "execution": {
     "iopub.execute_input": "2022-07-23T06:33:13.949152Z",
     "iopub.status.busy": "2022-07-23T06:33:13.948786Z",
     "iopub.status.idle": "2022-07-23T06:33:13.955108Z",
     "shell.execute_reply": "2022-07-23T06:33:13.953907Z",
     "shell.execute_reply.started": "2022-07-23T06:33:13.949108Z"
    }
   },
   "outputs": [],
   "source": [
    "#When we review the list, the “So Sorry.” and \"we broke up\" video titles are on the list but it was not available in the first list.\n",
    "df_un_title_max1 = df_un_title_max.reset_index()"
   ]
  },
  {
   "cell_type": "code",
   "execution_count": 38,
   "metadata": {
    "execution": {
     "iopub.execute_input": "2022-07-23T06:35:18.339577Z",
     "iopub.status.busy": "2022-07-23T06:35:18.338565Z",
     "iopub.status.idle": "2022-07-23T06:35:19.024345Z",
     "shell.execute_reply": "2022-07-23T06:35:19.022856Z",
     "shell.execute_reply.started": "2022-07-23T06:35:18.339530Z"
    }
   },
   "outputs": [],
   "source": [
    "# Visualization for top video titles\n",
    "import seaborn as sns; sns.set_theme()\n",
    "plt.figure(figsize=(20,10));\n",
    "sns.barplot(x='weighted_sorting_score', \n",
    "            y=\"title\", \n",
    "            data=df_un_title_max1, \n",
    "            order=df_un_title_max1.sort_values('weighted_sorting_score',ascending = False).title.head(20))\n",
    "\n",
    "plt.xlabel(\"Weighted Sorting Score\", size=15)\n",
    "plt.ylabel(\"Video Title\", size=15)\n",
    "plt.title(\"Top 20 Video Titles on Youtube\", size=18)"
   ]
  },
  {
   "cell_type": "code",
   "execution_count": 39,
   "metadata": {
    "execution": {
     "iopub.execute_input": "2022-07-23T06:36:22.572653Z",
     "iopub.status.busy": "2022-07-23T06:36:22.572264Z",
     "iopub.status.idle": "2022-07-23T06:36:22.597574Z",
     "shell.execute_reply": "2022-07-23T06:36:22.596656Z",
     "shell.execute_reply.started": "2022-07-23T06:36:22.572620Z"
    }
   },
   "outputs": [],
   "source": [
    "# Category Sorting by Weighted score\n",
    "df_cat = df.groupby([\"category\"]).agg({\"views\":\"sum\",\"likes\":\"sum\",\"dislikes\":\"sum\",\"comment_count\":\"sum\"})\n",
    "df_cat.sort_values(\"views\",ascending=False)"
   ]
  },
  {
   "cell_type": "code",
   "execution_count": 40,
   "metadata": {
    "execution": {
     "iopub.execute_input": "2022-07-23T06:36:41.066543Z",
     "iopub.status.busy": "2022-07-23T06:36:41.066187Z",
     "iopub.status.idle": "2022-07-23T06:36:41.092640Z",
     "shell.execute_reply": "2022-07-23T06:36:41.091446Z",
     "shell.execute_reply.started": "2022-07-23T06:36:41.066514Z"
    }
   },
   "outputs": [],
   "source": [
    "df_cat[\"views_scaled\"] = MinMaxScaler(feature_range=(0, 1)).fit(df_cat[[\"views\"]]).transform(df_cat[[\"views\"]])\n",
    "df_cat[\"likes_scaled\"] = MinMaxScaler(feature_range=(0, 1)).fit(df_cat[[\"likes\"]]).transform(df_cat[[\"likes\"]])\n",
    "df_cat[\"dislikes_scaled\"] = MinMaxScaler(feature_range=(0, 1)).fit(df_cat[[\"dislikes\"]]).transform(df_cat[[\"dislikes\"]])\n",
    "df_cat[\"comment_count_scaled\"] = MinMaxScaler(feature_range=(0, 1)).fit(df_cat[[\"comment_count\"]]).transform(df_cat[[\"comment_count\"]])"
   ]
  },
  {
   "cell_type": "code",
   "execution_count": 41,
   "metadata": {
    "execution": {
     "iopub.execute_input": "2022-07-23T06:36:49.253301Z",
     "iopub.status.busy": "2022-07-23T06:36:49.252912Z",
     "iopub.status.idle": "2022-07-23T06:36:49.260400Z",
     "shell.execute_reply": "2022-07-23T06:36:49.259390Z",
     "shell.execute_reply.started": "2022-07-23T06:36:49.253270Z"
    }
   },
   "outputs": [],
   "source": [
    "df_cat[\"weighted_sorting_score\"] = weighted_sorting(df_cat,'comment_count_scaled','views_scaled','likes_scaled','dislikes_scaled')"
   ]
  },
  {
   "cell_type": "code",
   "execution_count": 42,
   "metadata": {
    "execution": {
     "iopub.execute_input": "2022-07-23T06:36:58.107997Z",
     "iopub.status.busy": "2022-07-23T06:36:58.107602Z",
     "iopub.status.idle": "2022-07-23T06:36:58.115901Z",
     "shell.execute_reply": "2022-07-23T06:36:58.114515Z",
     "shell.execute_reply.started": "2022-07-23T06:36:58.107964Z"
    }
   },
   "outputs": [],
   "source": [
    "df_cat = df_cat.drop([\"views\",\"likes\",\"dislikes\",\"comment_count\"],axis=1)"
   ]
  },
  {
   "cell_type": "code",
   "execution_count": 43,
   "metadata": {
    "execution": {
     "iopub.execute_input": "2022-07-23T06:37:03.531082Z",
     "iopub.status.busy": "2022-07-23T06:37:03.530257Z",
     "iopub.status.idle": "2022-07-23T06:37:03.544586Z",
     "shell.execute_reply": "2022-07-23T06:37:03.543460Z",
     "shell.execute_reply.started": "2022-07-23T06:37:03.531026Z"
    }
   },
   "outputs": [],
   "source": [
    "df_cat.sort_values(\"weighted_sorting_score\",ascending=False)"
   ]
  },
  {
   "cell_type": "code",
   "execution_count": 44,
   "metadata": {
    "execution": {
     "iopub.execute_input": "2022-07-23T06:37:13.594453Z",
     "iopub.status.busy": "2022-07-23T06:37:13.594072Z",
     "iopub.status.idle": "2022-07-23T06:37:13.600545Z",
     "shell.execute_reply": "2022-07-23T06:37:13.599411Z",
     "shell.execute_reply.started": "2022-07-23T06:37:13.594423Z"
    }
   },
   "outputs": [],
   "source": [
    "df_cat1 = df_cat.reset_index()"
   ]
  },
  {
   "cell_type": "code",
   "execution_count": 45,
   "metadata": {
    "execution": {
     "iopub.execute_input": "2022-07-23T06:37:24.917522Z",
     "iopub.status.busy": "2022-07-23T06:37:24.917164Z",
     "iopub.status.idle": "2022-07-23T06:37:25.192675Z",
     "shell.execute_reply": "2022-07-23T06:37:25.191475Z",
     "shell.execute_reply.started": "2022-07-23T06:37:24.917495Z"
    }
   },
   "outputs": [],
   "source": [
    "plt.figure(figsize=(10,6))\n",
    "sns.barplot(x='category', \n",
    "            y=\"weighted_sorting_score\", \n",
    "            data=df_cat1, \n",
    "            order=df_cat1.sort_values('weighted_sorting_score',ascending = False).category.head())\n",
    "\n",
    "plt.xlabel(\"Video Category\", size=15)\n",
    "plt.ylabel(\"Weighted Sorting Score\", size=15)\n",
    "plt.title(\"Top 5 Video Categories on Youtube\", size=18)\n",
    "plt.tight_layout()\n"
   ]
  },
  {
   "cell_type": "markdown",
   "metadata": {},
   "source": [
    "# Conclusion:\n",
    "* The music category is in the !st place on Youtube Platform.\n",
    "* The entertainment category comes after the music category."
   ]
  },
  {
   "cell_type": "code",
   "execution_count": null,
   "metadata": {},
   "outputs": [],
   "source": []
  }
 ],
 "metadata": {
  "kernelspec": {
   "display_name": "Python 3 (ipykernel)",
   "language": "python",
   "name": "python3"
  },
  "language_info": {
   "codemirror_mode": {
    "name": "ipython",
    "version": 3
   },
   "file_extension": ".py",
   "mimetype": "text/x-python",
   "name": "python",
   "nbconvert_exporter": "python",
   "pygments_lexer": "ipython3",
   "version": "3.10.4"
  }
 },
 "nbformat": 4,
 "nbformat_minor": 4
}
